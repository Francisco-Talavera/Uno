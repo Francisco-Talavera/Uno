{
  "nbformat": 4,
  "nbformat_minor": 0,
  "metadata": {
    "colab": {
      "name": "Mi primer Cuadernito.ipynb",
      "provenance": [],
      "collapsed_sections": []
    },
    "kernelspec": {
      "name": "python3",
      "display_name": "Python 3"
    }
  },
  "cells": [
    {
      "cell_type": "markdown",
      "metadata": {
        "id": "7UJlY-YGdZOv"
      },
      "source": [
        "# La nostalgia del melómano\n",
        "\n"
      ]
    },
    {
      "cell_type": "markdown",
      "metadata": {
        "id": "jIk0Xwvejp4h"
      },
      "source": [
        "Este es mi libro favorito (al menos de los más recientes)\n",
        "\n",
        "[Venta en Amazon](https://www.amazon.it/nostalgia-del-mel%C3%B3mano-Spanish-ebook/dp/B08HS732G9/ref=sr_1_1?__mk_it_IT=%C3%85M%C3%85%C5%BD%C3%95%C3%91&dchild=1&keywords=La+Nostalgia+del+Mel%C3%B3mano&qid=1614825152&s=dmusic&sr=1-1-catcorr)\n",
        "\n",
        "[Cómo aprender Markdown](https://www.markdownguide.org/basic-syntax)\n",
        "\n",
        "![la nostalgia](https://external-content.duckduckgo.com/iu/?u=https%3A%2F%2Fi.pinimg.com%2Foriginals%2F56%2F39%2F4f%2F56394fe478c3a6ba6e8e6b26d40ccc7b.jpg&f=1&nofb=1)\n",
        "\n",
        "*Que tú nunca podrás abarcar la música en un solo instante,\n",
        "que tienes que esperar mientras transcurre, ir escuchando una nota detrás de otra*\n",
        "\n",
        "**Que tú nunca podrás abarcar la música en un solo instante,\n",
        "que tienes que esperar mientras transcurre, ir escuchando una nota detrás de otra**\n",
        "\n",
        "***Que tú nunca podrás abarcar la música en un solo instante,\n",
        "que tienes que esperar mientras transcurre, ir escuchando una nota detrás de otra***\n",
        "\n",
        "> Ese día no viniste a Cocodrilo Discos."
      ]
    },
    {
      "cell_type": "markdown",
      "metadata": {
        "id": "JccGARCmlhn5"
      },
      "source": [
        "# Lenguaje LaTeX"
      ]
    },
    {
      "cell_type": "markdown",
      "metadata": {
        "id": "_9tktLcCllYq"
      },
      "source": [
        "El lenguaje LaTeX se usa para colocar ecuaciones matemáticas de forma profesional...\n",
        "\n",
        "Es el lenguaje estándar usado por la mayoría de los científicos en el mundo.\n",
        "\n",
        "$$y=x^2$$\n",
        "\n",
        "$$\\frac{dC}{dt}=kC$$"
      ]
    },
    {
      "cell_type": "code",
      "metadata": {
        "colab": {
          "base_uri": "https://localhost:8080/"
        },
        "id": "HjUVQiVqnx4N",
        "outputId": "ccb00cb3-a715-4f02-9eb4-f569612552fc"
      },
      "source": [
        "print(\"Hello friend...Hello friend?\")"
      ],
      "execution_count": 1,
      "outputs": [
        {
          "output_type": "stream",
          "text": [
            "Hello friend...Hello friend?\n"
          ],
          "name": "stdout"
        }
      ]
    }
  ]
}